{
 "cells": [
  {
   "cell_type": "code",
   "execution_count": 1,
   "id": "ec5c220b",
   "metadata": {},
   "outputs": [],
   "source": [
    "import numpy as np\n",
    "import pandas as pd\n",
    "from sklearn.model_selection import train_test_split\n",
    "import matplotlib.pyplot as plt"
   ]
  },
  {
   "cell_type": "code",
   "execution_count": 2,
   "id": "95b061eb",
   "metadata": {},
   "outputs": [],
   "source": [
    "class Linear_Regression():\n",
    "    def __init__(self, learning_rate, no_of_iterations):\n",
    "        self.learning_rate = learning_rate\n",
    "        self.no_of_iterations = no_of_iterations\n",
    "    \n",
    "    def fit(self, x, y):\n",
    "        # No of training example and number of features\n",
    "        self.m, self.n = x.shape # No of rows and columns\n",
    "        # initiating the weight and bias\n",
    "        \n",
    "        self.w = np.zeros(self.n)\n",
    "        self.b = 0\n",
    "        self.x = x\n",
    "        self.y = y\n",
    "        #implimenting Gradient Descent\n",
    "        for i in range(self.no_of_iterations):\n",
    "            self.update_weights()\n",
    "    \n",
    "    def update_weights(self):\n",
    "        Y_prediction  = self.predict(self.x)\n",
    "        # calculate gradient\n",
    "        \n",
    "        dw = -(2*(self.x.T).dot(self.y - Y_prediction))/self.m\n",
    "        db = -2*np.sum(self.y -Y_prediction)/self.m\n",
    "        \n",
    "        # updating the weights\n",
    "        self.w = self.w - self.learning_rate*dw\n",
    "        self.b = self.b - self.learning_rate*db\n",
    "        \n",
    "    def predict(self,x):\n",
    "        return x.dot(self.w) + self.b\n",
    "        \n",
    "        "
   ]
  },
  {
   "cell_type": "code",
   "execution_count": 3,
   "id": "1b795c77",
   "metadata": {},
   "outputs": [],
   "source": [
    "salary_data = pd.read_csv(\"salary_data.csv\")"
   ]
  },
  {
   "cell_type": "code",
   "execution_count": 4,
   "id": "d3b79fba",
   "metadata": {},
   "outputs": [
    {
     "data": {
      "text/html": [
       "<div>\n",
       "<style scoped>\n",
       "    .dataframe tbody tr th:only-of-type {\n",
       "        vertical-align: middle;\n",
       "    }\n",
       "\n",
       "    .dataframe tbody tr th {\n",
       "        vertical-align: top;\n",
       "    }\n",
       "\n",
       "    .dataframe thead th {\n",
       "        text-align: right;\n",
       "    }\n",
       "</style>\n",
       "<table border=\"1\" class=\"dataframe\">\n",
       "  <thead>\n",
       "    <tr style=\"text-align: right;\">\n",
       "      <th></th>\n",
       "      <th>YearsExperience</th>\n",
       "      <th>Salary</th>\n",
       "    </tr>\n",
       "  </thead>\n",
       "  <tbody>\n",
       "    <tr>\n",
       "      <th>0</th>\n",
       "      <td>1.1</td>\n",
       "      <td>39343</td>\n",
       "    </tr>\n",
       "    <tr>\n",
       "      <th>1</th>\n",
       "      <td>1.3</td>\n",
       "      <td>46205</td>\n",
       "    </tr>\n",
       "    <tr>\n",
       "      <th>2</th>\n",
       "      <td>1.5</td>\n",
       "      <td>37731</td>\n",
       "    </tr>\n",
       "    <tr>\n",
       "      <th>3</th>\n",
       "      <td>2.0</td>\n",
       "      <td>43525</td>\n",
       "    </tr>\n",
       "    <tr>\n",
       "      <th>4</th>\n",
       "      <td>2.2</td>\n",
       "      <td>39891</td>\n",
       "    </tr>\n",
       "  </tbody>\n",
       "</table>\n",
       "</div>"
      ],
      "text/plain": [
       "   YearsExperience  Salary\n",
       "0              1.1   39343\n",
       "1              1.3   46205\n",
       "2              1.5   37731\n",
       "3              2.0   43525\n",
       "4              2.2   39891"
      ]
     },
     "execution_count": 4,
     "metadata": {},
     "output_type": "execute_result"
    }
   ],
   "source": [
    "salary_data.head()"
   ]
  },
  {
   "cell_type": "code",
   "execution_count": 5,
   "id": "bad259f0",
   "metadata": {},
   "outputs": [
    {
     "data": {
      "text/plain": [
       "(30, 2)"
      ]
     },
     "execution_count": 5,
     "metadata": {},
     "output_type": "execute_result"
    }
   ],
   "source": [
    "salary_data.shape"
   ]
  },
  {
   "cell_type": "code",
   "execution_count": 6,
   "id": "4c62ab5a",
   "metadata": {},
   "outputs": [],
   "source": [
    "# checking for missing values"
   ]
  },
  {
   "cell_type": "code",
   "execution_count": 7,
   "id": "1ee28664",
   "metadata": {},
   "outputs": [
    {
     "data": {
      "text/plain": [
       "YearsExperience    0\n",
       "Salary             0\n",
       "dtype: int64"
      ]
     },
     "execution_count": 7,
     "metadata": {},
     "output_type": "execute_result"
    }
   ],
   "source": [
    "salary_data.isnull().sum()"
   ]
  },
  {
   "cell_type": "code",
   "execution_count": 8,
   "id": "16884837",
   "metadata": {},
   "outputs": [],
   "source": [
    "#splitting the feature and target "
   ]
  },
  {
   "cell_type": "code",
   "execution_count": 9,
   "id": "f40df8c2",
   "metadata": {},
   "outputs": [],
   "source": [
    "X = salary_data.iloc[:,:-1].values\n",
    "Y = salary_data.iloc[:,1].values"
   ]
  },
  {
   "cell_type": "code",
   "execution_count": 10,
   "id": "5041ccfe",
   "metadata": {},
   "outputs": [
    {
     "name": "stdout",
     "output_type": "stream",
     "text": [
      "[[ 1.1]\n",
      " [ 1.3]\n",
      " [ 1.5]\n",
      " [ 2. ]\n",
      " [ 2.2]\n",
      " [ 2.9]\n",
      " [ 3. ]\n",
      " [ 3.2]\n",
      " [ 3.2]\n",
      " [ 3.7]\n",
      " [ 3.9]\n",
      " [ 4. ]\n",
      " [ 4. ]\n",
      " [ 4.1]\n",
      " [ 4.5]\n",
      " [ 4.9]\n",
      " [ 5.1]\n",
      " [ 5.3]\n",
      " [ 5.9]\n",
      " [ 6. ]\n",
      " [ 6.8]\n",
      " [ 7.1]\n",
      " [ 7.9]\n",
      " [ 8.2]\n",
      " [ 8.7]\n",
      " [ 9. ]\n",
      " [ 9.5]\n",
      " [ 9.6]\n",
      " [10.3]\n",
      " [10.5]]\n"
     ]
    }
   ],
   "source": [
    "print(X)"
   ]
  },
  {
   "cell_type": "code",
   "execution_count": 11,
   "id": "254f6eb7",
   "metadata": {},
   "outputs": [
    {
     "name": "stdout",
     "output_type": "stream",
     "text": [
      "[ 39343  46205  37731  43525  39891  56642  60150  54445  64445  57189\n",
      "  63218  55794  56957  57081  61111  67938  66029  83088  81363  93940\n",
      "  91738  98273 101302 113812 109431 105582 116969 112635 122391 121872]\n"
     ]
    }
   ],
   "source": [
    "print(Y)"
   ]
  },
  {
   "cell_type": "code",
   "execution_count": 12,
   "id": "d6fdaedf",
   "metadata": {},
   "outputs": [],
   "source": [
    "# Splitting the data into training and test"
   ]
  },
  {
   "cell_type": "code",
   "execution_count": 13,
   "id": "fc2281ea",
   "metadata": {},
   "outputs": [],
   "source": [
    "X_train,X_test, Y_train, Y_test = train_test_split(X,Y, test_size=0.33, random_state= 2)"
   ]
  },
  {
   "cell_type": "code",
   "execution_count": 14,
   "id": "2d7e3480",
   "metadata": {},
   "outputs": [],
   "source": [
    "# Training the Linear Regression model"
   ]
  },
  {
   "cell_type": "code",
   "execution_count": 15,
   "id": "d35d4734",
   "metadata": {},
   "outputs": [],
   "source": [
    "model = Linear_Regression(learning_rate = 0.02, no_of_iterations=1000)"
   ]
  },
  {
   "cell_type": "code",
   "execution_count": 16,
   "id": "2eb21f72",
   "metadata": {},
   "outputs": [],
   "source": [
    "model.fit(X_train,Y_train)"
   ]
  },
  {
   "cell_type": "code",
   "execution_count": 17,
   "id": "32bc8a92",
   "metadata": {},
   "outputs": [],
   "source": [
    "# printing the parameter values (weight and bias)"
   ]
  },
  {
   "cell_type": "code",
   "execution_count": 18,
   "id": "4c5a581d",
   "metadata": {},
   "outputs": [
    {
     "name": "stdout",
     "output_type": "stream",
     "text": [
      "weight= 9514.400999035135\n",
      "bias= 23697.406507136307\n"
     ]
    }
   ],
   "source": [
    "print(\"weight=\", model.w[0])\n",
    "print(\"bias=\", model.b)"
   ]
  },
  {
   "cell_type": "code",
   "execution_count": 19,
   "id": "e27a6680",
   "metadata": {},
   "outputs": [],
   "source": [
    "# y = 9514(x) + 23697\n",
    "# salary = 9514(expeience) + 23697"
   ]
  },
  {
   "cell_type": "code",
   "execution_count": 20,
   "id": "0b7ac85a",
   "metadata": {},
   "outputs": [],
   "source": [
    "# predict the salary value for test data"
   ]
  },
  {
   "cell_type": "code",
   "execution_count": 21,
   "id": "21933edb",
   "metadata": {},
   "outputs": [],
   "source": [
    "test_data_prediction = model.predict(X_test)"
   ]
  },
  {
   "cell_type": "code",
   "execution_count": 22,
   "id": "7b5f5ded",
   "metadata": {},
   "outputs": [
    {
     "name": "stdout",
     "output_type": "stream",
     "text": [
      "[ 36066.12780588  34163.24760607  66512.21100279  58900.69020357\n",
      "  91249.65360029  80783.81250135 101715.49469922  52240.60950424\n",
      "  42726.20850521  88395.33330058]\n"
     ]
    }
   ],
   "source": [
    "print(test_data_prediction)"
   ]
  },
  {
   "cell_type": "code",
   "execution_count": 23,
   "id": "93ce77c7",
   "metadata": {},
   "outputs": [],
   "source": [
    "# Visulaising the predicted values and actual values"
   ]
  },
  {
   "cell_type": "code",
   "execution_count": 26,
   "id": "eb55c54b",
   "metadata": {
    "scrolled": true
   },
   "outputs": [
    {
     "data": {
      "image/png": "[encoded data removed]",
      "text/plain": [
       "<Figure size 432x288 with 1 Axes>"
      ]
     },
     "metadata": {
      "needs_background": "light"
     },
     "output_type": "display_data"
    }
   ],
   "source": [
    "plt.scatter(X_test, Y_test, color=\"red\")\n",
    "plt.plot(X_test, test_data_prediction, color=\"blue\")\n",
    "plt.xlabel(\"Work Experience\")\n",
    "plt.ylabel(\"Salary\")\n",
    "plt.title(\"Salary Vs Experience\")\n",
    "plt.show()"
   ]
  },
  {
   "cell_type": "code",
   "execution_count": null,
   "id": "be21eb5a",
   "metadata": {},
   "outputs": [],
   "source": []
  }
 ],
 "metadata": {
  "kernelspec": {
   "display_name": "Python 3 (ipykernel)",
   "language": "python",
   "name": "python3"
  },
  "language_info": {
   "codemirror_mode": {
    "name": "ipython",
    "version": 3
   },
   "file_extension": ".py",
   "mimetype": "text/x-python",
   "name": "python",
   "nbconvert_exporter": "python",
   "pygments_lexer": "ipython3",
   "version": "3.10.0"
  }
 },
 "nbformat": 4,
 "nbformat_minor": 5
}
